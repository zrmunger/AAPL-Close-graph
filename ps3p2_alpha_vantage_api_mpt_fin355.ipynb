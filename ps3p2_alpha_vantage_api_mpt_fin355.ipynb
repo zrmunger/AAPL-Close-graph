{
 "cells": [
  {
   "cell_type": "markdown",
   "metadata": {},
   "source": [
    "## Problem Set 3 (Part 2 of 2): Interacting with the Alpha Vantage API using Python libraries"
   ]
  },
  {
   "cell_type": "markdown",
   "metadata": {},
   "source": [
    "In Part 2 of Problem Set 3 we will be using the data retrived from the Alpha Vantage API and creating an optimized portfolio of stocks based on Modern Portfolio Theory. The PyPortfolioOpt package will be used to optimize a portfolio of stocks based maximizing the Sharpe Ratio. This exercise is an example of how a robo-advisor would use data APIs to continuously monitor and adjusts stock portfolios. \n",
    "\n",
    "This part of the exercise demonstrates:\n",
    "\n",
    "1. Setting up a programming environment to work with APIs\n",
    "2. Data preprocessing to create compatible datasets\n",
    "3. Using a quantititive popular portfolio optimization library to estimate risks and weights\n",
    "\n",
    "Documentation links:\n",
    "<br />Alpha Vantage: https://www.alphavantage.co/documentation/\n",
    "<br />Alpha Vantage Python library: https://alpha-vantage.readthedocs.io/en/latest/#\n",
    "<br />Pandas DataFrame: https://pandas.pydata.org/pandas-docs/stable/reference/frame.html\n",
    "<br />PyPortfolioOpt: https://pyportfolioopt.readthedocs.io/en/latest/index.html"
   ]
  },
  {
   "cell_type": "code",
   "execution_count": 1,
   "metadata": {},
   "outputs": [],
   "source": [
    "api_key = \"4P71EWHZPBG432KV\""
   ]
  },
  {
   "cell_type": "code",
   "execution_count": 4,
   "metadata": {},
   "outputs": [],
   "source": [
    "import pandas as pd\n",
    "import requests\n",
    "from alpha_vantage.timeseries import TimeSeries\n",
    "import matplotlib.pyplot as plt\n",
    "\n",
    "# PyPortfolioOpt libraries\n",
    "from pypfopt.efficient_frontier import EfficientFrontier\n",
    "from pypfopt import risk_models\n",
    "from pypfopt import expected_returns\n",
    "from pypfopt.discrete_allocation import DiscreteAllocation, get_latest_prices"
   ]
  },
  {
   "cell_type": "code",
   "execution_count": 5,
   "metadata": {},
   "outputs": [],
   "source": [
    "ts = TimeSeries(key=api_key,output_format='pandas')"
   ]
  },
  {
   "cell_type": "code",
   "execution_count": 6,
   "metadata": {},
   "outputs": [],
   "source": [
    "fb_data, fb_meta_data = ts.get_daily(symbol='FB', outputsize='full')\n",
    "msft_data, msft_meta_data = ts.get_daily(symbol='MSFT', outputsize='full')\n",
    "aapl_data, aapl_meta_data = ts.get_daily(symbol='AAPL', outputsize='full')\n",
    "amzn_data, amzn_meta_data = ts.get_daily(symbol='AMZN', outputsize='full')"
   ]
  },
  {
   "cell_type": "markdown",
   "metadata": {},
   "source": [
    "Isolate \"close\" column of data for each security:"
   ]
  },
  {
   "cell_type": "code",
   "execution_count": 7,
   "metadata": {
    "scrolled": true
   },
   "outputs": [],
   "source": [
    "fb_clean = fb_data['4. close']\n",
    "msft_clean = msft_data['4. close']\n",
    "aapl_clean = aapl_data['4. close']\n",
    "amzn_clean = amzn_data['4. close']"
   ]
  },
  {
   "cell_type": "markdown",
   "metadata": {},
   "source": [
    "Create new dataframe with tickers as columns:"
   ]
  },
  {
   "cell_type": "code",
   "execution_count": 8,
   "metadata": {},
   "outputs": [],
   "source": [
    "df = pd.DataFrame(columns=['fb','msft','aapl','amzn'])"
   ]
  },
  {
   "cell_type": "markdown",
   "metadata": {},
   "source": [
    "Place data into new dataframe:"
   ]
  },
  {
   "cell_type": "code",
   "execution_count": 10,
   "metadata": {
    "scrolled": true
   },
   "outputs": [
    {
     "name": "stdout",
     "output_type": "stream",
     "text": [
      "                 fb     msft     aapl      amzn\n",
      "date                                           \n",
      "2012-05-18   38.232   29.270  530.380   213.850\n",
      "2012-05-21   34.030   29.750  561.280   218.110\n",
      "2012-05-22   31.000   29.760  556.970   215.330\n",
      "2012-05-23   32.000   29.110  570.560   217.280\n",
      "2012-05-24   33.030   29.070  565.320   215.240\n",
      "2012-05-25   31.910   29.060  562.290   212.890\n",
      "2012-05-29   28.840   29.560  572.270   214.750\n",
      "2012-05-30   28.190   29.340  579.170   209.230\n",
      "2012-05-31   29.600   29.190  577.730   212.910\n",
      "2012-06-01   27.720   28.450  560.990   208.220\n",
      "2012-06-04   26.900   28.550  564.290   214.570\n",
      "2012-06-05   25.869   28.505  562.830   213.210\n",
      "2012-06-06   26.810   29.350  571.460   217.640\n",
      "2012-06-07   26.310   29.230  571.720   218.800\n",
      "2012-06-08   27.100   29.650  580.320   218.480\n",
      "2012-06-11   27.005   28.895  571.170   216.500\n",
      "2012-06-12   27.400   29.290  576.160   216.420\n",
      "2012-06-13   27.270   29.130  572.160   214.730\n",
      "2012-06-14   28.290   29.340  571.530   214.450\n",
      "2012-06-15   30.014   30.020  574.130   218.350\n",
      "2012-06-18   31.410   29.840  585.780   222.660\n",
      "2012-06-19   31.911   30.700  587.410   224.030\n",
      "2012-06-20   31.600   30.930  585.741   223.020\n",
      "2012-06-21   31.840   30.135  577.670   220.575\n",
      "2012-06-22   33.050   30.700  582.100   222.160\n",
      "2012-06-25   32.060   29.865  570.765   220.070\n",
      "2012-06-26   33.100   30.020  572.025   225.610\n",
      "2012-06-27   32.230   30.170  574.500   225.620\n",
      "2012-06-28   31.360   29.910  569.050   221.310\n",
      "2012-06-29   31.095   30.590  584.000   228.350\n",
      "...             ...      ...      ...       ...\n",
      "2019-08-14  179.710  133.980  202.750  1762.960\n",
      "2019-08-15  182.590  133.680  201.740  1776.120\n",
      "2019-08-16  183.700  136.130  206.500  1792.570\n",
      "2019-08-19  186.170  138.410  210.350  1816.120\n",
      "2019-08-20  183.810  137.260  210.360  1801.380\n",
      "2019-08-21  183.550  138.790  212.640  1823.540\n",
      "2019-08-22  182.040  137.780  212.460  1804.660\n",
      "2019-08-23  177.750  133.390  202.640  1749.620\n",
      "2019-08-26  180.360  135.450  206.490  1768.870\n",
      "2019-08-27  181.300  135.740  204.160  1761.830\n",
      "2019-08-28  181.760  135.560  205.530  1764.250\n",
      "2019-08-29  185.570  138.120  209.010  1786.400\n",
      "2019-08-30  185.670  137.860  208.740  1776.290\n",
      "2019-09-03  182.390  136.040  205.700  1789.840\n",
      "2019-09-04  187.140  137.630  209.190  1800.620\n",
      "2019-09-05  190.900  140.050  213.280  1840.720\n",
      "2019-09-06  187.490  139.100  213.260  1833.510\n",
      "2019-09-09  188.760  137.520  214.170  1831.350\n",
      "2019-09-10  186.170  136.080  216.700  1820.550\n",
      "2019-09-11  188.490  136.120  223.590  1822.990\n",
      "2019-09-12  187.470  137.520  223.090  1843.550\n",
      "2019-09-13  187.190  137.320  218.750  1839.340\n",
      "2019-09-16  186.220  136.330  219.900  1807.840\n",
      "2019-09-17  188.080  137.390  220.700  1822.550\n",
      "2019-09-18  188.140  138.520  222.770  1817.460\n",
      "2019-09-19  190.140  141.070  220.960  1821.500\n",
      "2019-09-20  189.930  139.440  217.730  1794.160\n",
      "2019-09-23  186.820  139.140  218.720  1785.300\n",
      "2019-09-24  181.280  137.380  217.680  1741.610\n",
      "2019-09-25  182.800  139.360  221.030  1768.330\n",
      "\n",
      "[1850 rows x 4 columns]\n"
     ]
    }
   ],
   "source": [
    "df['fb'] = fb_clean\n",
    "df['msft'] = msft_clean\n",
    "df['aapl'] = aapl_clean\n",
    "df['amzn'] = amzn_clean\n",
    "print(df)"
   ]
  },
  {
   "cell_type": "markdown",
   "metadata": {},
   "source": [
    "Take only the earlist half of observations:"
   ]
  },
  {
   "cell_type": "code",
   "execution_count": 11,
   "metadata": {},
   "outputs": [],
   "source": [
    "df = df[0:924]"
   ]
  },
  {
   "cell_type": "markdown",
   "metadata": {},
   "source": [
    "Calculate expected returns:"
   ]
  },
  {
   "cell_type": "code",
   "execution_count": 13,
   "metadata": {},
   "outputs": [],
   "source": [
    "mu = expected_returns.mean_historical_return(df)"
   ]
  },
  {
   "cell_type": "markdown",
   "metadata": {},
   "source": [
    "Calculate sample covariance matrix:"
   ]
  },
  {
   "cell_type": "code",
   "execution_count": 14,
   "metadata": {},
   "outputs": [],
   "source": [
    "S = risk_models.sample_cov(df)"
   ]
  },
  {
   "cell_type": "markdown",
   "metadata": {},
   "source": [
    "Optimize the weights to maximzie the Sharpe Ratio:"
   ]
  },
  {
   "cell_type": "code",
   "execution_count": 17,
   "metadata": {},
   "outputs": [
    {
     "name": "stdout",
     "output_type": "stream",
     "text": [
      "Expected annual return: 28.3%\n",
      "Annual volatility: 23.5%\n",
      "Sharpe Ratio: 1.12\n"
     ]
    },
    {
     "data": {
      "text/plain": [
       "(0.28315300039734614, 0.2353086186227769, 1.1183313298830186)"
      ]
     },
     "execution_count": 17,
     "metadata": {},
     "output_type": "execute_result"
    }
   ],
   "source": [
    "ef = EfficientFrontier(mu,S)\n",
    "weights = ef.max_sharpe()\n",
    "ef.portfolio_performance(verbose=True)"
   ]
  },
  {
   "cell_type": "code",
   "execution_count": 18,
   "metadata": {},
   "outputs": [
    {
     "name": "stdout",
     "output_type": "stream",
     "text": [
      "{'fb': 0.23331629887166944, 'msft': 0.2728212151853775, 'aapl': 9.226560487851643e-17, 'amzn': 0.49386248594295307}\n"
     ]
    }
   ],
   "source": [
    "print(weights)"
   ]
  },
  {
   "cell_type": "markdown",
   "metadata": {},
   "source": [
    "Using optimized weights, compute portfolio accolation:"
   ]
  },
  {
   "cell_type": "code",
   "execution_count": 19,
   "metadata": {},
   "outputs": [
    {
     "name": "stdout",
     "output_type": "stream",
     "text": [
      "1 out of 4 tickers were removed\n",
      "{'amzn': 859, 'msft': 5404, 'fb': 2477}\n"
     ]
    }
   ],
   "source": [
    "latest_prices = get_latest_prices(df)\n",
    "da = DiscreteAllocation(weights, latest_prices, total_portfolio_value=1000000)\n",
    "allocation, leftover = da.greedy_portfolio()\n",
    "print(allocation)"
   ]
  },
  {
   "cell_type": "markdown",
   "metadata": {},
   "source": [
    "To update portfolio, call the API again for latest data and run optimization model again:"
   ]
  },
  {
   "cell_type": "code",
   "execution_count": 20,
   "metadata": {},
   "outputs": [],
   "source": [
    "fb_data, fb_meta_data = ts.get_daily(symbol='FB', outputsize='full')\n",
    "msft_data, msft_meta_data = ts.get_daily(symbol='MSFT', outputsize='full')\n",
    "aapl_data, aapl_meta_data = ts.get_daily(symbol='AAPL', outputsize='full')\n",
    "amzn_data, amzn_meta_data = ts.get_daily(symbol='AMZN', outputsize='full')"
   ]
  },
  {
   "cell_type": "code",
   "execution_count": 21,
   "metadata": {},
   "outputs": [],
   "source": [
    "df = pd.DataFrame(columns=['fb', 'msft', 'aapl', 'amzn'])"
   ]
  },
  {
   "cell_type": "code",
   "execution_count": 23,
   "metadata": {},
   "outputs": [],
   "source": [
    "fb_clean = fb_data['4. close']\n",
    "msft_clean = msft_data['4. close']\n",
    "aapl_clean = aapl_data['4. close']\n",
    "amzn_clean = amzn_data['4. close']"
   ]
  },
  {
   "cell_type": "code",
   "execution_count": 24,
   "metadata": {},
   "outputs": [
    {
     "name": "stdout",
     "output_type": "stream",
     "text": [
      "                 fb     msft     aapl      amzn\n",
      "date                                           \n",
      "2012-05-18   38.232   29.270  530.380   213.850\n",
      "2012-05-21   34.030   29.750  561.280   218.110\n",
      "2012-05-22   31.000   29.760  556.970   215.330\n",
      "2012-05-23   32.000   29.110  570.560   217.280\n",
      "2012-05-24   33.030   29.070  565.320   215.240\n",
      "2012-05-25   31.910   29.060  562.290   212.890\n",
      "2012-05-29   28.840   29.560  572.270   214.750\n",
      "2012-05-30   28.190   29.340  579.170   209.230\n",
      "2012-05-31   29.600   29.190  577.730   212.910\n",
      "2012-06-01   27.720   28.450  560.990   208.220\n",
      "2012-06-04   26.900   28.550  564.290   214.570\n",
      "2012-06-05   25.869   28.505  562.830   213.210\n",
      "2012-06-06   26.810   29.350  571.460   217.640\n",
      "2012-06-07   26.310   29.230  571.720   218.800\n",
      "2012-06-08   27.100   29.650  580.320   218.480\n",
      "2012-06-11   27.005   28.895  571.170   216.500\n",
      "2012-06-12   27.400   29.290  576.160   216.420\n",
      "2012-06-13   27.270   29.130  572.160   214.730\n",
      "2012-06-14   28.290   29.340  571.530   214.450\n",
      "2012-06-15   30.014   30.020  574.130   218.350\n",
      "2012-06-18   31.410   29.840  585.780   222.660\n",
      "2012-06-19   31.911   30.700  587.410   224.030\n",
      "2012-06-20   31.600   30.930  585.741   223.020\n",
      "2012-06-21   31.840   30.135  577.670   220.575\n",
      "2012-06-22   33.050   30.700  582.100   222.160\n",
      "2012-06-25   32.060   29.865  570.765   220.070\n",
      "2012-06-26   33.100   30.020  572.025   225.610\n",
      "2012-06-27   32.230   30.170  574.500   225.620\n",
      "2012-06-28   31.360   29.910  569.050   221.310\n",
      "2012-06-29   31.095   30.590  584.000   228.350\n",
      "...             ...      ...      ...       ...\n",
      "2019-08-14  179.710  133.980  202.750  1762.960\n",
      "2019-08-15  182.590  133.680  201.740  1776.120\n",
      "2019-08-16  183.700  136.130  206.500  1792.570\n",
      "2019-08-19  186.170  138.410  210.350  1816.120\n",
      "2019-08-20  183.810  137.260  210.360  1801.380\n",
      "2019-08-21  183.550  138.790  212.640  1823.540\n",
      "2019-08-22  182.040  137.780  212.460  1804.660\n",
      "2019-08-23  177.750  133.390  202.640  1749.620\n",
      "2019-08-26  180.360  135.450  206.490  1768.870\n",
      "2019-08-27  181.300  135.740  204.160  1761.830\n",
      "2019-08-28  181.760  135.560  205.530  1764.250\n",
      "2019-08-29  185.570  138.120  209.010  1786.400\n",
      "2019-08-30  185.670  137.860  208.740  1776.290\n",
      "2019-09-03  182.390  136.040  205.700  1789.840\n",
      "2019-09-04  187.140  137.630  209.190  1800.620\n",
      "2019-09-05  190.900  140.050  213.280  1840.720\n",
      "2019-09-06  187.490  139.100  213.260  1833.510\n",
      "2019-09-09  188.760  137.520  214.170  1831.350\n",
      "2019-09-10  186.170  136.080  216.700  1820.550\n",
      "2019-09-11  188.490  136.120  223.590  1822.990\n",
      "2019-09-12  187.470  137.520  223.090  1843.550\n",
      "2019-09-13  187.190  137.320  218.750  1839.340\n",
      "2019-09-16  186.220  136.330  219.900  1807.840\n",
      "2019-09-17  188.080  137.390  220.700  1822.550\n",
      "2019-09-18  188.140  138.520  222.770  1817.460\n",
      "2019-09-19  190.140  141.070  220.960  1821.500\n",
      "2019-09-20  189.930  139.440  217.730  1794.160\n",
      "2019-09-23  186.820  139.140  218.720  1785.300\n",
      "2019-09-24  181.280  137.380  217.680  1741.610\n",
      "2019-09-25  182.800  139.360  221.030  1768.330\n",
      "\n",
      "[1850 rows x 4 columns]\n"
     ]
    }
   ],
   "source": [
    "df['fb'] = fb_clean\n",
    "df['msft'] = msft_clean\n",
    "df['aapl'] = aapl_clean\n",
    "df['amzn'] = amzn_clean\n",
    "print(df)"
   ]
  },
  {
   "cell_type": "code",
   "execution_count": 26,
   "metadata": {},
   "outputs": [
    {
     "name": "stdout",
     "output_type": "stream",
     "text": [
      "Expected annual return: 28.5%\n",
      "Annual volatility: 22.3%\n",
      "Sharpe Ratio: 1.19\n",
      "{'fb': 0.14110788084764556, 'msft': 0.42339738777063635, 'aapl': 0.0, 'amzn': 0.43549473138171824}\n"
     ]
    }
   ],
   "source": [
    "mu = expected_returns.mean_historical_return(df)\n",
    "S = risk_models.sample_cov(df)\n",
    "ef = EfficientFrontier(mu, S)\n",
    "weights = ef.max_sharpe()\n",
    "ef.portfolio_performance(verbose=True)\n",
    "print(weights)"
   ]
  },
  {
   "cell_type": "code",
   "execution_count": 27,
   "metadata": {},
   "outputs": [
    {
     "name": "stdout",
     "output_type": "stream",
     "text": [
      "1 out of 4 tickers were removed\n",
      "{'amzn': 246, 'msft': 3038, 'fb': 772}\n"
     ]
    }
   ],
   "source": [
    "latest_prices = get_latest_prices(df)\n",
    "da = DiscreteAllocation(weights, latest_prices, total_portfolio_value=1000000)\n",
    "allocation, leftover = da.greedy_portfolio()\n",
    "print(allocation)"
   ]
  },
  {
   "cell_type": "code",
   "execution_count": null,
   "metadata": {},
   "outputs": [],
   "source": []
  }
 ],
 "metadata": {
  "kernelspec": {
   "display_name": "Python 3",
   "language": "python",
   "name": "python3"
  },
  "language_info": {
   "codemirror_mode": {
    "name": "ipython",
    "version": 3
   },
   "file_extension": ".py",
   "mimetype": "text/x-python",
   "name": "python",
   "nbconvert_exporter": "python",
   "pygments_lexer": "ipython3",
   "version": "3.7.3"
  }
 },
 "nbformat": 4,
 "nbformat_minor": 2
}
